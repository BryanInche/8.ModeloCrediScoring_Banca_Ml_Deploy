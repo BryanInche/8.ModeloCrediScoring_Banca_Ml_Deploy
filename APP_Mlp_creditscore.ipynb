{
 "cells": [
  {
   "cell_type": "code",
   "execution_count": 4,
   "id": "246f6e2a",
   "metadata": {},
   "outputs": [],
   "source": [
    "from keras.models import Sequential\n",
    "from keras.layers import Dense\n",
    "import streamlit as st\n",
    "import numpy as np\n",
    "\n",
    "# path del modelo \n",
    "MODEL_PATH= 'Models/credit_model.h5'\n",
    "\n",
    "# Se recibe datos nuevos y el modelo predice\n",
    "def model_prediction(x_in,model):\n",
    "    \n",
    "    x= np.asarray(x_in).reshape(1,-1)\n",
    "    preds=model.predict(x)\n",
    "    preds=preds.round().astype(int)\n",
    "    \n",
    "    return preds\n",
    "\n",
    "def main():\n",
    "    \n",
    "    model=''\n",
    "    \n",
    "    #Cargamos el modelo\n",
    "    if model=='':\n",
    "        with open(MODEL_PATH, 'rb') as file:\n",
    "            model = load_model(file)\n",
    "            \n",
    "            \n",
    "    # Ambiente de la aplicacion web\n",
    "    #Titulo\n",
    "    st.title(\"Prediccion de Clientes Rentables !!!\") \n",
    "    html_temp = '''\n",
    "    <h1 style = \"color:#008080; text-aling: center;\">Sistema de deteccion de Clientes\"</h1>\n",
    "    </div>\n",
    "    '''\n",
    "    st.markdownrk(html_temp, unsafe_allow_html=True)\n",
    "    \n",
    "    #Lectura de datos\n",
    "    #Datos = st.text_input(\"ingrese los datos\")\n",
    "    N = st.text_input(\"Edad\")\n",
    "    P = st.text_input(\"2da varible\")\n",
    "    K = st.text_input(\"3 variable\")\n",
    "    J = st.text_input(\"Hombre\")\n",
    "    W = st.text_input(\"Mujer\")\n",
    "    \n",
    "    #Boton de prediccion\n",
    "    if st.button(\"Prediccion\"):\n",
    "        x_in = [np.float_(N.title()),\n",
    "                    np.float_(P.title()),\n",
    "                    np.float_(K.title()),\n",
    "                    np.float_(J.title()),\n",
    "                    np.float_(W.title())]\n",
    "        predictS = model_prediction(x_in,model)\n",
    "        st.success(\"El cliente es : {}\".format(predctS[0]))\n",
    "        \n",
    "if __name__ == '__main__':\n",
    "    main()\n",
    "        \n",
    "    "
   ]
  },
  {
   "cell_type": "code",
   "execution_count": 4,
   "id": "d440cfb3",
   "metadata": {},
   "outputs": [],
   "source": [
    "from keras.models import load_model\n",
    "import streamlit as st\n",
    "import numpy as np\n",
    "from keras.models import Sequential\n",
    "from keras.layers import Dense\n",
    "from sklearn.model_selection import train_test_split\n"
   ]
  },
  {
   "cell_type": "code",
   "execution_count": 5,
   "id": "404de4a7",
   "metadata": {},
   "outputs": [
    {
     "ename": "ImportError",
     "evalue": "cannot import name 'escape' from 'jinja2' (C:\\Users\\Bryan\\Miniconda3\\lib\\site-packages\\jinja2\\__init__.py)",
     "output_type": "error",
     "traceback": [
      "\u001b[1;31m---------------------------------------------------------------------------\u001b[0m",
      "\u001b[1;31mImportError\u001b[0m                               Traceback (most recent call last)",
      "\u001b[1;32m~\\AppData\\Local\\Temp\\ipykernel_12136\\653996989.py\u001b[0m in \u001b[0;36m<module>\u001b[1;34m\u001b[0m\n\u001b[1;32m----> 1\u001b[1;33m \u001b[1;32mfrom\u001b[0m \u001b[0mflask\u001b[0m \u001b[1;32mimport\u001b[0m \u001b[0mFlask\u001b[0m\u001b[1;33m,\u001b[0m \u001b[0mrequest\u001b[0m\u001b[1;33m,\u001b[0m \u001b[0mjsonify\u001b[0m\u001b[1;33m,\u001b[0m \u001b[0mrender_template\u001b[0m\u001b[1;33m,\u001b[0m \u001b[0murl_for\u001b[0m\u001b[1;33m\u001b[0m\u001b[1;33m\u001b[0m\u001b[0m\n\u001b[0m",
      "\u001b[1;32m~\\Miniconda3\\lib\\site-packages\\flask\\__init__.py\u001b[0m in \u001b[0;36m<module>\u001b[1;34m\u001b[0m\n\u001b[0;32m     12\u001b[0m \u001b[1;31m# utilities we import from Werkzeug and Jinja2 that are unused\u001b[0m\u001b[1;33m\u001b[0m\u001b[1;33m\u001b[0m\u001b[1;33m\u001b[0m\u001b[0m\n\u001b[0;32m     13\u001b[0m \u001b[1;31m# in the module but are exported as public interface.\u001b[0m\u001b[1;33m\u001b[0m\u001b[1;33m\u001b[0m\u001b[1;33m\u001b[0m\u001b[0m\n\u001b[1;32m---> 14\u001b[1;33m \u001b[1;32mfrom\u001b[0m \u001b[0mjinja2\u001b[0m \u001b[1;32mimport\u001b[0m \u001b[0mescape\u001b[0m\u001b[1;33m\u001b[0m\u001b[1;33m\u001b[0m\u001b[0m\n\u001b[0m\u001b[0;32m     15\u001b[0m \u001b[1;32mfrom\u001b[0m \u001b[0mjinja2\u001b[0m \u001b[1;32mimport\u001b[0m \u001b[0mMarkup\u001b[0m\u001b[1;33m\u001b[0m\u001b[1;33m\u001b[0m\u001b[0m\n\u001b[0;32m     16\u001b[0m \u001b[1;32mfrom\u001b[0m \u001b[0mwerkzeug\u001b[0m\u001b[1;33m.\u001b[0m\u001b[0mexceptions\u001b[0m \u001b[1;32mimport\u001b[0m \u001b[0mabort\u001b[0m\u001b[1;33m\u001b[0m\u001b[1;33m\u001b[0m\u001b[0m\n",
      "\u001b[1;31mImportError\u001b[0m: cannot import name 'escape' from 'jinja2' (C:\\Users\\Bryan\\Miniconda3\\lib\\site-packages\\jinja2\\__init__.py)"
     ]
    }
   ],
   "source": [
    "from flask import Flask, request, jsonify, render_template, url_for"
   ]
  },
  {
   "cell_type": "code",
   "execution_count": null,
   "id": "858f80d8",
   "metadata": {},
   "outputs": [],
   "source": []
  }
 ],
 "metadata": {
  "kernelspec": {
   "display_name": "Python 3 (ipykernel)",
   "language": "python",
   "name": "python3"
  },
  "language_info": {
   "codemirror_mode": {
    "name": "ipython",
    "version": 3
   },
   "file_extension": ".py",
   "mimetype": "text/x-python",
   "name": "python",
   "nbconvert_exporter": "python",
   "pygments_lexer": "ipython3",
   "version": "3.7.4"
  }
 },
 "nbformat": 4,
 "nbformat_minor": 5
}
